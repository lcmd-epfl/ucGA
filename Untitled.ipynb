{
 "cells": [
  {
   "cell_type": "code",
   "execution_count": 5,
   "id": "8c7c0e8c",
   "metadata": {},
   "outputs": [],
   "source": [
    "import os\n",
    "import re"
   ]
  },
  {
   "cell_type": "code",
   "execution_count": 7,
   "id": "4c57cc2e",
   "metadata": {},
   "outputs": [
    {
     "name": "stdout",
     "output_type": "stream",
     "text": [
      "h5py\n",
      "colt\n",
      "numpy\n",
      "simpletransformers\n",
      "chimera\n",
      "tensorflow\n",
      "random\n",
      "json\n",
      "collections\n",
      "threading\n",
      "config\n",
      "pysisyphus\n",
      "packaging\n",
      "rdkit\n",
      "navicatGA\n",
      "tqdm\n",
      "importlib\n",
      "utils\n",
      "math\n",
      "cPickle\n",
      "pymongo\n",
      "pickle\n",
      "time\n",
      "multiprocessing\n",
      "qml\n",
      "a\n",
      "ray\n",
      "sys\n",
      "subprocess\n",
      "matplotlib\n",
      "sklearn\n",
      "pandas\n",
      "psutil\n",
      "gzip\n",
      "pathlib\n",
      "hashlib\n",
      "unittest\n",
      "csv\n",
      "logging\n",
      "theodore\n",
      "sascorer\n",
      "optparse\n",
      "six\n",
      "__future__\n",
      "Queue\n",
      "os\n",
      "itertools\n",
      "xgboost\n",
      "seaborn\n"
     ]
    }
   ],
   "source": [
    "import os\n",
    "import re\n",
    "\n",
    "def list_imports(start_path):\n",
    "    imports = set()\n",
    "    for root, dirs, files in os.walk(start_path):\n",
    "        for file in files:\n",
    "            if file.endswith('.py'):\n",
    "                path = os.path.join(root, file)\n",
    "                with open(path, 'r', encoding='utf8') as f:\n",
    "                    for line in f:\n",
    "                        if \"UncAGA\" in line or \"TODO\" in line:\n",
    "                            continue\n",
    "                        match = re.match(r'^\\s*(?:import|from)\\s+([\\w]+)', line)\n",
    "                        if match:\n",
    "                            imports.add(match.group(1))\n",
    "    return imports\n",
    "\n",
    "# Replace 'your_project_directory' with the path to your project directory\n",
    "project_path = '/home/student7/LucaSchaufelberger/MasterThesis/Paper_Data/UncAGA'\n",
    "all_imports = list_imports(project_path)\n",
    "print('\\n'.join(all_imports))\n"
   ]
  },
  {
   "cell_type": "code",
   "execution_count": null,
   "id": "fdba29ff",
   "metadata": {},
   "outputs": [],
   "source": []
  }
 ],
 "metadata": {
  "kernelspec": {
   "display_name": "Python 3 (ipykernel)",
   "language": "python",
   "name": "python3"
  },
  "language_info": {
   "codemirror_mode": {
    "name": "ipython",
    "version": 3
   },
   "file_extension": ".py",
   "mimetype": "text/x-python",
   "name": "python",
   "nbconvert_exporter": "python",
   "pygments_lexer": "ipython3",
   "version": "3.9.18"
  }
 },
 "nbformat": 4,
 "nbformat_minor": 5
}
